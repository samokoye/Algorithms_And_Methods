{
 "cells": [
  {
   "cell_type": "code",
   "execution_count": 14,
   "metadata": {},
   "outputs": [],
   "source": [
    "s1,s2 = 'cats', 'tacts'\n",
    "s3,s4 = 'cats', 'dog'\n",
    "s5,s6 = 'aabbcc', 'abcabc'\n",
    "s7,s8 = 'aabbcc', 'abccba'\n",
    "def anagram(s1,s2):\n",
    "    #print the char count of each string\n",
    "    print(f\"Char count of {s1}: {char_count(s1)}\")\n",
    "    print(f\"Char count of {s2}: {char_count(s2)}\")\n",
    "    # print whether s1 and s2 are anagrams\n",
    "    print(f'{s1} and {s2} are anagrams: ')\n",
    "    #check if s1 and s2 are anagrams\n",
    "    return char_count(s1) == char_count(s2)\n",
    "\n",
    "def char_count(s):\n",
    "    #define empty dict\n",
    "    count = {}\n",
    "    #loop through each char in the string\n",
    "    for char in s:\n",
    "        #check if the char is in the dict as a key\n",
    "        if char in count:\n",
    "            #if the char is in the count dict, then increase it by 1\n",
    "            count[char] +=1\n",
    "        else:\n",
    "            #if not in the dict, add it as a key and set its value to 1\n",
    "            count[char] = 1\n",
    "    #return the count dict\n",
    "    return count"
   ]
  },
  {
   "cell_type": "code",
   "execution_count": 15,
   "id": "99ee7352",
   "metadata": {},
   "outputs": [
    {
     "name": "stdout",
     "output_type": "stream",
     "text": [
      "Char count of cats: {'c': 1, 'a': 1, 't': 1, 's': 1}\n",
      "Char count of tacts: {'t': 2, 'a': 1, 'c': 1, 's': 1}\n",
      "cats and tacts are anagrams: \n",
      "False\n",
      "Char count of cats: {'c': 1, 'a': 1, 't': 1, 's': 1}\n",
      "Char count of dog: {'d': 1, 'o': 1, 'g': 1}\n",
      "cats and dog are anagrams: \n",
      "False\n",
      "Char count of aabbcc: {'a': 2, 'b': 2, 'c': 2}\n",
      "Char count of abcabc: {'a': 2, 'b': 2, 'c': 2}\n",
      "aabbcc and abcabc are anagrams: \n",
      "True\n",
      "Char count of aabbcc: {'a': 2, 'b': 2, 'c': 2}\n",
      "Char count of abccba: {'a': 2, 'b': 2, 'c': 2}\n",
      "aabbcc and abccba are anagrams: \n",
      "True\n"
     ]
    }
   ],
   "source": [
    "#Test the anagram function\n",
    "print(anagram(s1,s2)) #True\n",
    "print(anagram(s3,s4)) #False\n",
    "print(anagram(s5,s6)) #True\n",
    "print(anagram(s7,s8)) #True"
   ]
  },
  {
   "cell_type": "code",
   "execution_count": null,
   "id": "1ebc8272",
   "metadata": {},
   "outputs": [],
   "source": []
  }
 ],
 "metadata": {
  "kernelspec": {
   "display_name": "base",
   "language": "python",
   "name": "python3"
  },
  "language_info": {
   "codemirror_mode": {
    "name": "ipython",
    "version": 3
   },
   "file_extension": ".py",
   "mimetype": "text/x-python",
   "name": "python",
   "nbconvert_exporter": "python",
   "pygments_lexer": "ipython3",
   "version": "3.8.8"
  }
 },
 "nbformat": 4,
 "nbformat_minor": 5
}
