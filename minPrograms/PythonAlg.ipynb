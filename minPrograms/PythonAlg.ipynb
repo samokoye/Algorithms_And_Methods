{
 "cells": [
  {
   "cell_type": "markdown",
   "id": "2ced157f",
   "metadata": {},
   "source": [
    "### Anagram Finder"
   ]
  },
  {
   "cell_type": "code",
   "execution_count": 2,
   "metadata": {},
   "outputs": [],
   "source": [
    "s1,s2 = 'cats', 'tacts'\n",
    "s3,s4 = 'cats', 'dog'\n",
    "s5,s6 = 'aabbcc', 'abcabc'\n",
    "s7,s8 = 'aabbcc', 'abccba'\n",
    "def anagram(s1,s2):\n",
    "    #print the char count of each string\n",
    "    print(f\"Char count of {s1}: {char_count(s1)}\")\n",
    "    print(f\"Char count of {s2}: {char_count(s2)}\")\n",
    "    # print whether s1 and s2 are anagrams\n",
    "    print(f'{s1} and {s2} are anagrams: ')\n",
    "    #check if s1 and s2 are anagrams\n",
    "    return char_count(s1) == char_count(s2)\n",
    "\n",
    "def char_count(s):\n",
    "    #define empty dict\n",
    "    count = {}\n",
    "    #loop through each char in the string\n",
    "    for char in s:\n",
    "        #check if the char is in the dict as a key\n",
    "        if char in count:\n",
    "            #if the char is in the count dict, then increase it by 1\n",
    "            count[char] +=1\n",
    "        else:\n",
    "            #if not in the dict, add it as a key and set its value to 1\n",
    "            count[char] = 1\n",
    "    #return the count dict\n",
    "    return count"
   ]
  },
  {
   "cell_type": "code",
   "execution_count": 3,
   "id": "99ee7352",
   "metadata": {},
   "outputs": [
    {
     "name": "stdout",
     "output_type": "stream",
     "text": [
      "Char count of cats: {'c': 1, 'a': 1, 't': 1, 's': 1}\n",
      "Char count of tacts: {'t': 2, 'a': 1, 'c': 1, 's': 1}\n",
      "cats and tacts are anagrams: \n",
      "False\n",
      "Char count of cats: {'c': 1, 'a': 1, 't': 1, 's': 1}\n",
      "Char count of dog: {'d': 1, 'o': 1, 'g': 1}\n",
      "cats and dog are anagrams: \n",
      "False\n",
      "Char count of aabbcc: {'a': 2, 'b': 2, 'c': 2}\n",
      "Char count of abcabc: {'a': 2, 'b': 2, 'c': 2}\n",
      "aabbcc and abcabc are anagrams: \n",
      "True\n",
      "Char count of aabbcc: {'a': 2, 'b': 2, 'c': 2}\n",
      "Char count of abccba: {'a': 2, 'b': 2, 'c': 2}\n",
      "aabbcc and abccba are anagrams: \n",
      "True\n"
     ]
    }
   ],
   "source": [
    "#Test the anagram function\n",
    "print(anagram(s1,s2)) #True\n",
    "print(anagram(s3,s4)) #False\n",
    "print(anagram(s5,s6)) #True\n",
    "print(anagram(s7,s8)) #True"
   ]
  },
  {
   "cell_type": "code",
   "execution_count": 4,
   "id": "1ebc8272",
   "metadata": {},
   "outputs": [
    {
     "name": "stdout",
     "output_type": "stream",
     "text": [
      "Given strings: cats, tacts\n",
      "False\n",
      "Given strings: cats, dog\n",
      "False\n",
      "Given strings: aabbcc, abcabc\n",
      "True\n",
      "Given strings: aabbcc, abccba\n",
      "True\n"
     ]
    }
   ],
   "source": [
    "#Compact version with char_count inside anagram function\n",
    "def test_anagram(s1,s2):\n",
    "    #print the given strings\n",
    "    print(f'Given strings: {s1}, {s2}')\n",
    "    def char_count(s):\n",
    "        #define empty dict to hold char counts\n",
    "        count = {}\n",
    "        for char in s:\n",
    "            #if char not in count dict, add it with value 0\n",
    "            if char not in count:\n",
    "                count[char] = 0\n",
    "            #exit the if block and increment the count\n",
    "            count[char] += 1\n",
    "        #return the count dict\n",
    "        return count\n",
    "    #return whether the char counts of both strings are equal\n",
    "    return char_count(s1) == char_count(s2)\n",
    "\n",
    "#Test the compact anagram function\n",
    "print(test_anagram(s1,s2)) #True\n",
    "print(test_anagram(s3,s4)) #False\n",
    "print(test_anagram(s5,s6)) #True\n",
    "print(test_anagram(s7,s8)) #True"
   ]
  },
  {
   "cell_type": "markdown",
   "id": "d4e0c0d1",
   "metadata": {},
   "source": [
    "### Most frequent char(First) in a string finder\n",
    "\n",
    "-- The following approach is for if you are required to return the first max occurring character"
   ]
  },
  {
   "cell_type": "code",
   "execution_count": 5,
   "id": "3681401e",
   "metadata": {},
   "outputs": [
    {
     "name": "stdout",
     "output_type": "stream",
     "text": [
      "Most frequent char in apple: p\n",
      "Most frequent char in banana: a\n",
      "Most frequent char in cherry: r\n",
      "Most frequent char in date: d\n",
      "Most frequent char in potato: o\n"
     ]
    }
   ],
   "source": [
    "#Given a string, need to find the most frequent character in that string\n",
    "s9,s10,s11,s12,s13 = 'apple', 'banana', 'cherry', 'date','potato'\n",
    "def most_frequent_char(s):\n",
    "    #initialize empty dict to hold the char in the string\n",
    "    count= {}\n",
    "    #loop through each char in the string\n",
    "    for char in s:\n",
    "        #check if char is not in count dict\n",
    "        if char not in count:\n",
    "            #set the value of the first occurrence of the char to 0\n",
    "            count[char] = 0\n",
    "        #increment the count of the char by 1\n",
    "        count[char] += 1\n",
    "    # return the char with the max count. if there is a tie, return the first char with the max count\n",
    "    return max(count, key=count.get)\n",
    "\n",
    "#test the most_frequent_char function\n",
    "print(f'Most frequent char in {s9}: {most_frequent_char(s9)}')\n",
    "print(f'Most frequent char in {s10}: {most_frequent_char(s10)}')\n",
    "print(f'Most frequent char in {s11}: {most_frequent_char(s11)}')\n",
    "print(f'Most frequent char in {s12}: {most_frequent_char(s12)}')\n",
    "print(f'Most frequent char in {s13}: {most_frequent_char(s13)}')\n",
    "            "
   ]
  },
  {
   "cell_type": "code",
   "execution_count": 6,
   "id": "7456d3e3",
   "metadata": {},
   "outputs": [
    {
     "name": "stdout",
     "output_type": "stream",
     "text": [
      "Most frequent char in apple: p\n",
      "Most frequent char in banana: a\n",
      "Most frequent char in cherry: r\n",
      "Most frequent char in date: d\n",
      "Most frequent char in potato: o\n",
      "Time complexity: O(n)\n",
      "Because we loop through the string twice, but each loop is O(n), so overall it is O(n).\n"
     ]
    }
   ],
   "source": [
    "\n",
    "#Another way to find the most frequent char without using max function\n",
    "def most_frequent_char_v2(s):\n",
    "    #initialize empty dict to hold the char in the string\n",
    "    count= {}\n",
    "    max_char = None\n",
    "    #loop through each char in the string\n",
    "    for char in s:\n",
    "        #check if char is not in count dict\n",
    "        if char not in count:\n",
    "            #if not in count dict, set its value to 0\n",
    "            count[char] = 0\n",
    "        #increase the count of the char by 1\n",
    "        count[char] += 1\n",
    "    #check if max_char is None or the count of the current char is greater than the count of max_char\n",
    "    for char in s:\n",
    "        if max_char is None or count[char] > count[max_char]:\n",
    "            #set max_char to the current char\n",
    "            max_char = char\n",
    "    #return the max_char\n",
    "    return max_char\n",
    "\n",
    "#test the most_frequent_char_v2 function\n",
    "print(f'Most frequent char in {s9}: {most_frequent_char_v2(s9)}')\n",
    "print(f'Most frequent char in {s10}: {most_frequent_char_v2(s10)}')\n",
    "print(f'Most frequent char in {s11}: {most_frequent_char_v2(s11)}')\n",
    "print(f'Most frequent char in {s12}: {most_frequent_char_v2(s12)}')\n",
    "print(f'Most frequent char in {s13}: {most_frequent_char_v2(s13)}')\n",
    "#print the time complexity of the function\n",
    "print('Time complexity: O(n)')\n",
    "#why the time complexity is O(n)\n",
    "print('Because we loop through the string twice, but each loop is O(n), so overall it is O(n).')"
   ]
  },
  {
   "cell_type": "markdown",
   "id": "12f492ce",
   "metadata": {},
   "source": [
    "### Most frequent char(Any) in a string finder\n",
    "\n",
    "-- The following approach is for if you are NOT required to return the first max occurring character"
   ]
  },
  {
   "cell_type": "code",
   "execution_count": 7,
   "id": "774f245d",
   "metadata": {},
   "outputs": [
    {
     "name": "stdout",
     "output_type": "stream",
     "text": [
      "Count dict: {'a': 1, 'p': 2, 'l': 1, 'e': 1}\n",
      "Most frequent char in apple: p\n",
      "Count dict: {'b': 1, 'a': 3, 'n': 2}\n",
      "Most frequent char in banana: a\n",
      "Count dict: {'c': 1, 'h': 1, 'e': 1, 'r': 2, 'y': 1}\n",
      "Most frequent char in cherry: r\n",
      "Count dict: {'d': 1, 'a': 1, 't': 1, 'e': 1}\n",
      "Most frequent char in date: d\n",
      "Count dict: {'p': 1, 'o': 2, 't': 2, 'a': 1}\n",
      "Most frequent char in potato: t\n",
      "Time complexity: O(n)\n",
      "Because we loop through the string only once, so overall it is O(n).\n"
     ]
    }
   ],
   "source": [
    "def most_frequent_char_v3(s):\n",
    "    #initialize empty dict to hold the char in the string\n",
    "    count ={}\n",
    "    max_char = None\n",
    "    #loop through each char in the string\n",
    "    for char in s:\n",
    "        #check if char is not in the count dict\n",
    "        if char not in count:\n",
    "            count[char] = 0\n",
    "        #increment the count of the char by 1\n",
    "        count[char] +=1\n",
    "        \n",
    "        #Check for any max occurance char in the count dict and update max_char to it\n",
    "        if max_char is None or count[char] > count[max_char]:\n",
    "            #update the max_char to the current char\n",
    "            max_char = char\n",
    "    #print the count dict\n",
    "    print(f'Count dict: {count}')\n",
    "    #return the max_char\n",
    "    return max_char\n",
    "    \n",
    "    #test the most_frequent_char_v3 function\n",
    "print(f'Most frequent char in {s9}: {most_frequent_char_v3(s9)}')\n",
    "print(f'Most frequent char in {s10}: {most_frequent_char_v3(s10)}')\n",
    "print(f'Most frequent char in {s11}: {most_frequent_char_v3(s11)}')\n",
    "print(f'Most frequent char in {s12}: {most_frequent_char_v3(s12)}')\n",
    "print(f'Most frequent char in {s13}: {most_frequent_char_v3(s13)}')\n",
    "    \n",
    "#print the time complexity of the function\n",
    "print('Time complexity: O(n)')\n",
    "#print why the time complexity is O(n)\n",
    "print('Because we loop through the string only once, so overall it is O(n).')"
   ]
  },
  {
   "cell_type": "code",
   "execution_count": 8,
   "id": "1e5dc881",
   "metadata": {},
   "outputs": [
    {
     "name": "stdout",
     "output_type": "stream",
     "text": [
      "Time taken by most_frequent_char: 0.0 seconds\n",
      "Time taken by most_frequent_char_v2: 0.0 seconds\n",
      "Count dict: {'a': 1, 'p': 2, 'l': 1, 'e': 1}\n",
      "Time taken by most_frequent_char_v3: 0.0 seconds\n",
      "Accuracy of the three most frequent char functions:\n",
      "Count dict: {'a': 1, 'p': 2, 'l': 1, 'e': 1}\n",
      "Accuracy of most_frequent_char functions using s9: True\n",
      "Count dict: {'b': 1, 'a': 3, 'n': 2}\n",
      "Accuracy of most_frequent_char functions using s10: True\n",
      "Count dict: {'c': 1, 'h': 1, 'e': 1, 'r': 2, 'y': 1}\n",
      "Accuracy of most_frequent_char functions using s11: True\n",
      "Count dict: {'d': 1, 'a': 1, 't': 1, 'e': 1}\n",
      "Accuracy of most_frequent_char functions using s12: True\n",
      "Count dict: {'p': 1, 'o': 2, 't': 2, 'a': 1}\n",
      "Accuracy of most_frequent_char functions using s13: False\n"
     ]
    }
   ],
   "source": [
    "#test the time complexity of the functions using time module\n",
    "import time\n",
    "start = time.time()\n",
    "most_frequent_char(s9)\n",
    "end = time.time()\n",
    "print(f'Time taken by most_frequent_char: {end - start} seconds')\n",
    "#test the time complexity of the second function\n",
    "start = time.time()\n",
    "most_frequent_char_v2(s9)\n",
    "end = time.time()\n",
    "print(f'Time taken by most_frequent_char_v2: {end - start} seconds')\n",
    "#test the time complexity of the third function\n",
    "start = time.time()\n",
    "most_frequent_char_v3(s9)\n",
    "end = time.time()\n",
    "print(f'Time taken by most_frequent_char_v3: {end - start} seconds')\n",
    "\n",
    "#The accuracy of each function by comparing their outputs\n",
    "print('Accuracy of the three most frequent char functions:')\n",
    "print(f'Accuracy of most_frequent_char functions using s9: {most_frequent_char(s9) == most_frequent_char_v2(s9) == most_frequent_char_v3(s9)}')\n",
    "print(f'Accuracy of most_frequent_char functions using s10: {most_frequent_char(s10) == most_frequent_char_v2(s10) == most_frequent_char_v3(s10)}')\n",
    "print(f'Accuracy of most_frequent_char functions using s11: {most_frequent_char(s11) == most_frequent_char_v2(s11) == most_frequent_char_v3(s11)}')\n",
    "print(f'Accuracy of most_frequent_char functions using s12: {most_frequent_char(s12) == most_frequent_char_v2(s12) == most_frequent_char_v3(s12)}')\n",
    "print(f'Accuracy of most_frequent_char functions using s13: {most_frequent_char(s13) == most_frequent_char_v2(s13) == most_frequent_char_v3(s13)}')\n"
   ]
  },
  {
   "cell_type": "markdown",
   "id": "b6a6e89f",
   "metadata": {},
   "source": [
    "### Summary Analysis of the three most frequent char functions:\n",
    "- All three functions have a time complexity of O(n),\n",
    " but the third function is more efficient because it only loops through the string once,\n",
    " while the first two functions loop through the string twice.\n",
    " \n",
    "### Discrepancy in accuracy of the functions based on test cases s9 to s13:\n",
    "\n",
    "- The third most frequent char (v3) function returned the last max occurring char\n",
    " instead of the first max occurring char.\n",
    " Unlike the first two functions, it does not loop through the string twice\n",
    " to check for any other char with the same max occurance count.\n",
    " Hence it overwrites the max_char variable whenever\n",
    " it finds a char with the same max occurrance count later in the string.\n",
    "\n",
    "- In case of a tie and if returning any of the max char is allowed.\n",
    " Then all three functions will be okay to use,\n",
    " but the third function is the most efficient.\n",
    " Hence, use any of the functions if order of the max char does not matter.\n",
    "\n",
    "### Approach to solving problems implemented for each of the three functions:\n",
    "**1. most_frequent_char:** This function uses a dictionary\n",
    " to count the occurrences of each character in the string.\n",
    " It then uses the max function to find the character with the highest count.\n",
    " If there is a tie, it returns the first character with\n",
    " the highest count because the max function returns the first occurrence in case of a tie.\n",
    "\n",
    "**2. most_frequent_char_v2:** This function also uses a dictionary\n",
    " to count the occurrences of each character in the string.\n",
    " However, instead of using the max function, it loops through the string again\n",
    " to find the character with the highest count. If there is a tie, it returns the first character with the highest count\n",
    " because it checks for max_char in the order of characters in the string.\n",
    "\n",
    "**3. most_frequent_char_v3:** This function combines counting and\n",
    " finding the max character in a single loop through the string.\n",
    " It updates the max_char variable whenever it finds a character with a higher count.\n",
    " However, if there is a tie, it returns the last character with the highest count because it overwrites max_char\n",
    " whenever it finds a character with the same max count later in the string.\n",
    "\n"
   ]
  },
  {
   "cell_type": "markdown",
   "id": "3ac08069",
   "metadata": {},
   "source": []
  },
  {
   "cell_type": "markdown",
   "id": "e1f1f3f6",
   "metadata": {},
   "source": [
    "### Pair Sum"
   ]
  },
  {
   "cell_type": "code",
   "execution_count": 9,
   "id": "3510eaba",
   "metadata": {},
   "outputs": [
    {
     "name": "stdout",
     "output_type": "stream",
     "text": [
      "Pair in [1, 2, 3, 4, 5] that sums to 8: (3, 5)\n",
      "Pair in [10, 15, 3, 7] that sums to 17: (10, 7)\n",
      "Pair in [0, -1, 2, -3, 1] that sums to -2: (-3, 1)\n",
      "Pair in [5, 5, 5, 5] that sums to 10: (5, 5)\n",
      "Pair in [1, 2, 3] that sums to 6: None\n"
     ]
    }
   ],
   "source": [
    "# Given a list of numbers, find the pair that sums to a specific target\n",
    "num1,num2,num3,num4,num5 = [1,2,3,4,5], [10,15,3,7], [0,-1,2,-3,1], [5,5,5,5], [1,2,3]\n",
    "target1,target2,target3,target4,target5 = 8, 17, -2, 10, 6\n",
    "def pair_sum(nums, target):\n",
    "    #define empty set to hold all the seen numbers that would be needed to form the target sum\n",
    "    X_val = set()\n",
    "    #loop through the nums list\n",
    "    for num in nums:\n",
    "        #compute the x value needed to form the target sum with the current num\n",
    "        x = target - num\n",
    "        #check if x is already in the X_val set\n",
    "        if x in X_val:\n",
    "            #if x is in the set, return the pair\n",
    "            return (x,num)\n",
    "        #if it is not in the X_val set, we need to add the current num to the set so that it can be used to form the target sum with future nums\n",
    "        X_val.add(num)\n",
    "    #if no pair is found that sums to the target, return None\n",
    "    return None\n",
    "\n",
    "#test the pair_sum function\n",
    "print(f'Pair in {num1} that sums to {target1}: {pair_sum(num1, target1)}')\n",
    "print(f'Pair in {num2} that sums to {target2}: {pair_sum(num2, target2)}')\n",
    "print(f'Pair in {num3} that sums to {target3}: {pair_sum(num3, target3)}')\n",
    "print(f'Pair in {num4} that sums to {target4}: {pair_sum(num4, target4)}')\n",
    "print(f'Pair in {num5} that sums to {target5}: {pair_sum(num5, target5)}')\n"
   ]
  },
  {
   "cell_type": "code",
   "execution_count": 10,
   "id": "0baebd9f",
   "metadata": {},
   "outputs": [
    {
     "name": "stdout",
     "output_type": "stream",
     "text": [
      "Indices of pair in [1, 2, 3, 4, 5] that sums to 8: (2, 4)\n",
      "Indices of pair in [10, 15, 3, 7] that sums to 17: (0, 3)\n",
      "Indices of pair in [0, -1, 2, -3, 1] that sums to -2: (3, 4)\n",
      "Indices of pair in [5, 5, 5, 5] that sums to 10: (0, 1)\n",
      "Indices of pair in [1, 2, 3] that sums to 6: None\n"
     ]
    }
   ],
   "source": [
    "def pair_sum_index(nums, target):\n",
    "    #initialize empty dict to hold the num and its index\n",
    "    X_val ={}\n",
    "    for i, num in enumerate(nums):\n",
    "        # compute the complement\n",
    "        comp = target - num\n",
    "        if comp in X_val:\n",
    "            return (X_val[comp],i)\n",
    "        #if not, add the index to the pair dict\n",
    "        X_val[num] = i\n",
    "    #return None if no pair is found\n",
    "    return None\n",
    "\n",
    "#test the pair_sum_index function\n",
    "print(f'Indices of pair in {num1} that sums to {target1}: {pair_sum_index(num1, target1)}')\n",
    "print(f'Indices of pair in {num2} that sums to {target2}: {pair_sum_index(num2, target2)}')\n",
    "print(f'Indices of pair in {num3} that sums to {target3}: {pair_sum_index(num3, target3)}')\n",
    "print(f'Indices of pair in {num4} that sums to {target4}: {pair_sum_index(num4, target4)}')\n",
    "print(f'Indices of pair in {num5} that sums to {target5}: {pair_sum_index(num5, target5)}')"
   ]
  },
  {
   "cell_type": "code",
   "execution_count": 11,
   "id": "96acf46a",
   "metadata": {},
   "outputs": [
    {
     "name": "stdout",
     "output_type": "stream",
     "text": [
      "Pair in [1, 2, 3, 4, 5] that sums to 8: (3, 5)\n",
      "Pair in [10, 15, 3, 7] that sums to 17: (10, 7)\n",
      "Pair in [0, -1, 2, -3, 1] that sums to -2: (-3, 1)\n",
      "Pair in [5, 5, 5, 5] that sums to 10: (5, 5)\n",
      "Pair in [1, 2, 3] that sums to 6: None\n"
     ]
    }
   ],
   "source": [
    "#Using the same approach in pair_sum_index function to return the actual pair instead of their indices\n",
    "def pair_sum_v2(nums,target):\n",
    "    #initialize empty dict to \n",
    "    X_val = {}\n",
    "    #loop through the nums list with their indices using the enumerate function\n",
    "    for i, num in enumerate(nums):\n",
    "        x = target - num\n",
    "        #check if x is in X_val dict already\n",
    "        if x in X_val:\n",
    "            return (x, num)\n",
    "        #if x is not in X_val dict, add the current num to the dict with its index as the value\n",
    "        X_val[num] = i\n",
    "    #if no pair is found that sums to the target, return None\n",
    "    return None\n",
    "\n",
    "#test the pair_sum_v2 function\n",
    "print(f'Pair in {num1} that sums to {target1}: {pair_sum_v2(num1, target1)}')\n",
    "print(f'Pair in {num2} that sums to {target2}: {pair_sum_v2(num2, target2)}')\n",
    "print(f'Pair in {num3} that sums to {target3}: {pair_sum_v2(num3, target3)}')\n",
    "print(f'Pair in {num4} that sums to {target4}: {pair_sum_v2(num4, target4)}')\n",
    "print(f'Pair in {num5} that sums to {target5}: {pair_sum_v2(num5, target5)}')\n"
   ]
  },
  {
   "cell_type": "markdown",
   "id": "65f5a877",
   "metadata": {},
   "source": [
    "### Analysis of the three pair sum functions:\n",
    "\n",
    "**1. pair_sum function:**\n",
    "- Time complexity: O(n)\n",
    "- Space complexity: O(n)\n",
    "- Explanation: The function loops through the list of numbers once, and for each number,\n",
    " it checks if the complement (target - num) is in the set of seen numbers. If it is, it returns the pair.\n",
    " If not, it adds the current number to the set.\n",
    " The space complexity is O(n) because in the worst case,\n",
    " we may need to store all the numbers in the set.\n",
    "\n",
    "**2. pair_sum_index function:**\n",
    "- Time complexity: O(n)\n",
    "- Space complexity: O(n)\n",
    "- Explanation: The function loops through the list of numbers once, and for each number,\n",
    " it computes the complement (target - num) and checks if it is in the dictionary of seen numbers.\n",
    " If it is, it returns the indices of the pair. If not, it adds the current number and its index to the dictionary.\n",
    " The space complexity is O(n) because in the worst case,\n",
    " we may need to store all the numbers and their indices in the dictionary.\n",
    "\n",
    "**3. pair_sum_v2 function:**\n",
    "- Time complexity: O(n)\n",
    "- Space complexity: O(n)\n",
    "- Explanation: The function loops through the list of numbers once, and for each number,\n",
    " it computes the complement (target - num) and checks if it is in the dictionary of seen numbers.\n",
    " If it is, it returns the pair. If not, it adds the current number to the dictionary with its index as the value.\n",
    " The space complexity is O(n) because in the worst case,\n",
    " we may need to store all the numbers and their indices in the dictionary."
   ]
  },
  {
   "cell_type": "markdown",
   "id": "62a99956",
   "metadata": {},
   "source": [
    "### Pair Product"
   ]
  },
  {
   "cell_type": "code",
   "execution_count": 21,
   "id": "ab3bd13d",
   "metadata": {},
   "outputs": [
    {
     "name": "stdout",
     "output_type": "stream",
     "text": [
      "The indices of the pair are: (3, 4)\n",
      "Pair in [1, 2, 3, 4, 5] that its product is equal to 20: (4.0, 5)\n",
      "The indices of the pair are: (0, 2)\n",
      "Pair in [10, 15, 3, 7] that its product is equal to 30: (10.0, 3)\n",
      "The indices of the pair are: (3, 4)\n",
      "Pair in [0, -1, 2, -3, 1] that its product is equal to -3: (-3.0, 1)\n",
      "The indices of the pair are: (0, 1)\n",
      "Pair in [5, 5, 5, 5] that its product is equal to 25: (5.0, 5)\n",
      "The indices of the pair are: (1, 2)\n",
      "Pair in [1, 2, 3] that its product is equal to 6: (2.0, 3)\n"
     ]
    }
   ],
   "source": [
    "#Given a list of numbers, find the pair[And show their indexes] that its product is equal to a specific target\n",
    "num6,num7,num8,num9,num10 = [1,2,3,4,5], [10,15,3,7], [0,-1,2,-3,1], [5,5,5,5], [1,2,3]\n",
    "target6,target7,target8,target9,target10 = 20, 30, -3, 25, 6\n",
    "def pair_product(nums,target):\n",
    "    #define empty dict to hold the num and its index\n",
    "    pair_prod_dict = {}\n",
    "    #loop through the nums list to find the pair\n",
    "    for i, num in enumerate(nums):\n",
    "        #compute the complement needed to form the target product with the current num such that complement * num = target\n",
    "        comp = target / num if num != 0 else None # handle division by zero case by setting comp to None if num is 0\n",
    "        #check if comp is in the dict\n",
    "        if comp in pair_prod_dict:\n",
    "            #if comp is in the dict, then return the pair, and also print their indices\n",
    "            print(f'The indices of the pair are: {(pair_prod_dict[comp], i)}')\n",
    "            return (comp, num)\n",
    "        #if comp is not in the dict, add the current num to the dict with its index as the value\n",
    "        pair_prod_dict[num] = i\n",
    "    #if no pair is found that its product is equal to the target, return None\n",
    "    return None\n",
    "\n",
    "#test the pair_product function\n",
    "print(f'Pair in {num6} that its product is equal to {target6}: {pair_product(num6, target6)}')\n",
    "print(f'Pair in {num7} that its product is equal to {target7}: {pair_product(num7, target7)}')\n",
    "print(f'Pair in {num8} that its product is equal to {target8}: {pair_product(num8, target8)}')\n",
    "print(f'Pair in {num9} that its product is equal to {target9}: {pair_product(num9, target9)}')\n",
    "print(f'Pair in {num10} that its product is equal to {target10}: {pair_product(num10, target10)}')    "
   ]
  },
  {
   "cell_type": "code",
   "execution_count": null,
   "id": "b45d6501",
   "metadata": {},
   "outputs": [
    {
     "name": "stdout",
     "output_type": "stream",
     "text": [
      "Intersection of [1, 2, 3, 4, 5] and [4, 5, 6, 7, 8]: [4, 5]\n",
      "Intersection of ['a', 'b', 'c'] and ['b', 'c', 'd']: ['b', 'c']\n",
      "Intersection of [1, 2, 3] and [4, 5, 6]: None\n",
      "Intersection of [] and [7, 8, 9]: None\n",
      "Intersection of [0, 1, 2, 3, 4, 5, 6, 7, 8, 9]... and [5000, 5001, 5002, 5003, 5004, 5005, 5006, 5007, 5008, 5009]...: [5000, 5001, 5002, 5003, 5004, 5005, 5006, 5007, 5008, 5009]...\n",
      "Time complexity of intersection function: O(n + m)\n",
      "Time taken by intersection function: 0.001998424530029297 seconds\n",
      "Because we loop through both lists once, where n is the length of the first list\n",
      "and m is the length of the second list, so overall it is O(n + m).\n",
      "Space complexity of intersection function: O(n)\n",
      "Because we use a dict to hold the elements of the first list and their indices,\n",
      "and in the worst case, all elements of the first list are in the second list,\n",
      "so the dict will hold all n elements of the first list, so overall it is O(n).\n"
     ]
    }
   ],
   "source": [
    "#Given two lists, find the intersection of the two lists, returning a list of the common elements and their indices in both lists\n",
    "list1, list2, list3, list4, list5,list6,list7,list8 = [1,2,3,4,5], [4,5,6,7,8], ['a','b','c'], ['b','c','d'], [1,2,3], [4,5,6], [], [7,8,9]\n",
    "#list9 and list10 are two large lists with 10000 elements each, with some common elements\n",
    "list9 = list(range(10000))\n",
    "list10 = list(range(5000,15000))\n",
    "def intersection(l1,l2):\n",
    "    #initialize an empty dict to hold the elements of the first list and their indices\n",
    "    intersection_dict = {}\n",
    "    #convert the second list to a set for O(1) lookups\n",
    "    set_l2 = set(l2)\n",
    "    #loop through the first list with their indices using the enumerate function\n",
    "    for i, elem in enumerate(l1):\n",
    "        #check if elem is in the set of the second list\n",
    "        if elem in set_l2:\n",
    "            #if elem is in the set, add it to the intersection dict with its index as the value\n",
    "            intersection_dict[elem] = i\n",
    "    #return the intersection dict keys\n",
    "    return list(intersection_dict.keys()) if intersection_dict else None\n",
    "\n",
    "#test the intersection function\n",
    "print(f'Intersection of {list1} and {list2}: {intersection(list1, list2)}')\n",
    "print(f'Intersection of {list3} and {list4}: {intersection(list3, list4)}')\n",
    "print(f'Intersection of {list5} and {list6}: {intersection(list5, list6)}')\n",
    "print(f'Intersection of {list7} and {list8}: {intersection(list7, list8)}')\n",
    "print(f'Intersection of {list9[:10]}... and {list10[:10]}...: {intersection(list9, list10)[:10]}...') #print only the first 10 elements of the intersection\n",
    "\n",
    "#Time complexity of the intersection function\n",
    "print('Time complexity of intersection function: O(n + m)')\n",
    "#test the time complexity of the intersection function using time module\n",
    "import time\n",
    "start = time.time()\n",
    "intersection(list9, list10)\n",
    "end = time.time()\n",
    "print(f'Time taken by intersection function: {end - start} seconds')\n",
    "#Explain why the time complexity is O(n + m)\n",
    "print('Because we loop through both lists once, where n is the length of the first list\\nand m is the length of the second list, so overall it is O(n + m).')\n",
    "#Explain the space complexity of the intersection function, how was it calculated?\n",
    "print('Space complexity of intersection function: O(n)\\nBecause we use a dict to hold the elements of the first list and their indices,\\nand in the worst case, all elements of the first list are in the second list,\\nso the dict will hold all n elements of the first list, so overall it is O(n).')"
   ]
  },
  {
   "cell_type": "code",
   "execution_count": 48,
   "id": "9875efac",
   "metadata": {},
   "outputs": [
    {
     "name": "stdout",
     "output_type": "stream",
     "text": [
      "Intersection of [1, 2, 3, 4, 5] and [4, 5, 6, 7, 8]: [4, 5]\n",
      "Intersection of ['a', 'b', 'c'] and ['b', 'c', 'd']: ['b', 'c']\n",
      "Intersection of [1, 2, 3] and [4, 5, 6]: None\n",
      "Intersection of [] and [7, 8, 9]: None\n",
      "Time taken by intersection function: 0.00401759147644043 seconds\n",
      "Time taken by intersection_v2 function: 0.0020122528076171875 seconds\n"
     ]
    }
   ],
   "source": [
    "\n",
    "def intersection_v2(l1,l2):\n",
    "    #initialize an empty dict to hold the elements of the first list and their indices\n",
    "    intersection_dict = {}\n",
    "    #loop through the first list with their indices using the enumerate function\n",
    "    for i, elem in enumerate(l1):\n",
    "        #add the elem to the intersection dict with its index as the value\n",
    "        intersection_dict[elem] = i\n",
    "    #initialize an empty list to hold the common elements\n",
    "    common_elements = []\n",
    "    #loop through the second list\n",
    "    for elem in l2:\n",
    "        #check if elem is in the intersection dict\n",
    "        if elem in intersection_dict:\n",
    "            #if elem is in the dict, add it to the common elements list\n",
    "            common_elements.append(elem)\n",
    "    #return the common elements list\n",
    "    return common_elements if common_elements else None\n",
    "\n",
    "#test the intersection_v2 function\n",
    "print(f'Intersection of {list1} and {list2}: {intersection_v2(list1, list2)}')\n",
    "print(f'Intersection of {list3} and {list4}: {intersection_v2(list3, list4)}')\n",
    "print(f'Intersection of {list5} and {list6}: {intersection_v2(list5, list6)}')\n",
    "print(f'Intersection of {list7} and {list8}: {intersection_v2(list7, list8)}')\n",
    "\n",
    "#compare the efficiency of the two intersection functions using time module\n",
    "import time\n",
    "start = time.time()\n",
    "intersection(list9, list10)\n",
    "end = time.time()\n",
    "print(f'Time taken by intersection function: {end - start} seconds')\n",
    "start = time.time()\n",
    "intersection_v2(list9, list10)\n",
    "end = time.time()\n",
    "print(f'Time taken by intersection_v2 function: {end - start} seconds')"
   ]
  },
  {
   "cell_type": "code",
   "execution_count": 46,
   "id": "138e3d7f",
   "metadata": {},
   "outputs": [
    {
     "name": "stdout",
     "output_type": "stream",
     "text": [
      "Time taken by intersection_v3 function: 0.06473135948181152 seconds\n",
      "Time taken by intersection_v4 function: 0.002008199691772461 seconds\n"
     ]
    }
   ],
   "source": [
    "def intersection_v3(l1,l2):\n",
    "    #define empty list to hold the common elements\n",
    "    common_elements = []\n",
    "    #initialize an empty set for adding elements of the second list for O(1) lookups\n",
    "    set_l2 = set()\n",
    "    #add all elements of the second list to the set\n",
    "    for elem in l2:\n",
    "        set_l2.add(elem)\n",
    "    \n",
    "    #loop through each element in the first list and check if it is in the second list\n",
    "    for elem in l1:\n",
    "        if elem in set_l2:\n",
    "            common_elements.append(elem)\n",
    "    #return the common elements list\n",
    "    return common_elements if common_elements else None\n",
    "        \n",
    "\n",
    "def intersection_v4(l1,l2):\n",
    "    #define empty list to hold the common elements\n",
    "    common_elements = []\n",
    "    #initialize an empty set for adding elements of the second list for O(1) lookups\n",
    "    set_l2 = set(l2) #convert the second list to a set in one step\n",
    "    \n",
    "    #loop through each element in the first list and check if it is in the second list\n",
    "    for elem in l1:\n",
    "        if elem in set_l2:\n",
    "            common_elements.append(elem)\n",
    "    #return the common elements list\n",
    "    return common_elements if common_elements else None\n",
    "\n",
    "#test the intersection_v3 vs intersection_v4 functions time complexity\n",
    "start = time.time()\n",
    "intersection_v3(list9, list10)\n",
    "end = time.time()\n",
    "print(f'Time taken by intersection_v3 function: {end - start} seconds')\n",
    "start = time.time()\n",
    "intersection_v4(list9, list10)\n",
    "end = time.time()\n",
    "print(f'Time taken by intersection_v4 function: {end - start} seconds')"
   ]
  },
  {
   "cell_type": "code",
   "execution_count": 47,
   "id": "867aff89",
   "metadata": {},
   "outputs": [
    {
     "name": "stdout",
     "output_type": "stream",
     "text": [
      "Testing accuracy of all four intersection functions:\n",
      "Accuracy of intersection and intersection_v2 functions: True\n",
      "Accuracy of intersection and intersection_v3 functions: True\n",
      "Accuracy of intersection and intersection_v4 functions: True\n",
      "Time taken by intersection function: 0.0019965171813964844 seconds\n",
      "Time taken by intersection_v2 function: 0.003000497817993164 seconds\n",
      "Time taken by intersection_v3 function: 0.0025734901428222656 seconds\n",
      "Time taken by intersection_v4 function: 0.0019998550415039062 seconds\n"
     ]
    }
   ],
   "source": [
    "#Test all four intersection functions for accuracy and time efficiency using the two large lists list9 and list10\n",
    "print('Testing accuracy of all four intersection functions:')\n",
    "print(f'Accuracy of intersection and intersection_v2 functions: {intersection(list9, list10) == intersection_v2(list9, list10)}')\n",
    "print(f'Accuracy of intersection and intersection_v3 functions: {intersection(list9, list10) == intersection_v3(list9, list10)}')\n",
    "print(f'Accuracy of intersection and intersection_v4 functions: {intersection(list9, list10) == intersection_v4(list9, list10)}')\n",
    "#test the time efficiency of all four intersection functions using time module\n",
    "start = time.time()\n",
    "intersection(list9, list10)\n",
    "end = time.time()\n",
    "print(f'Time taken by intersection function: {end - start} seconds')\n",
    "start = time.time()\n",
    "intersection_v2(list9, list10)\n",
    "end = time.time()\n",
    "print(f'Time taken by intersection_v2 function: {end - start} seconds')\n",
    "start = time.time()\n",
    "intersection_v3(list9, list10)\n",
    "end = time.time()\n",
    "print(f'Time taken by intersection_v3 function: {end - start} seconds')\n",
    "start = time.time()\n",
    "intersection_v4(list9, list10)\n",
    "end = time.time()\n",
    "print(f'Time taken by intersection_v4 function: {end - start} seconds')"
   ]
  },
  {
   "cell_type": "markdown",
   "id": "2577b66d",
   "metadata": {},
   "source": [
    "### ----- Unit tests on the four intersection functions-----"
   ]
  },
  {
   "cell_type": "code",
   "execution_count": 45,
   "id": "379dabd6",
   "metadata": {},
   "outputs": [
    {
     "name": "stderr",
     "output_type": "stream",
     "text": [
      "test_basic (__main__.TestIntersections) ... ok\n",
      "test_duplicates_behavior (__main__.TestIntersections) ... ok\n",
      "test_empty_lists (__main__.TestIntersections) ... ok\n",
      "test_no_overlap (__main__.TestIntersections) ... ok\n",
      "test_ordering (__main__.TestIntersections) ... ok\n",
      "\n",
      "----------------------------------------------------------------------\n",
      "Ran 5 tests in 0.007s\n",
      "\n",
      "OK\n"
     ]
    },
    {
     "name": "stdout",
     "output_type": "stream",
     "text": [
      "Intersection Function Timing (avg over 3 runs, N=50k):\n"
     ]
    },
    {
     "data": {
      "text/html": [
       "<div>\n",
       "<style scoped>\n",
       "    .dataframe tbody tr th:only-of-type {\n",
       "        vertical-align: middle;\n",
       "    }\n",
       "\n",
       "    .dataframe tbody tr th {\n",
       "        vertical-align: top;\n",
       "    }\n",
       "\n",
       "    .dataframe thead th {\n",
       "        text-align: right;\n",
       "    }\n",
       "</style>\n",
       "<table border=\"1\" class=\"dataframe\">\n",
       "  <thead>\n",
       "    <tr style=\"text-align: right;\">\n",
       "      <th></th>\n",
       "      <th>function</th>\n",
       "      <th>avg_time_seconds</th>\n",
       "    </tr>\n",
       "  </thead>\n",
       "  <tbody>\n",
       "    <tr>\n",
       "      <th>3</th>\n",
       "      <td>intersection_v4</td>\n",
       "      <td>0.014583</td>\n",
       "    </tr>\n",
       "    <tr>\n",
       "      <th>2</th>\n",
       "      <td>intersection_v3</td>\n",
       "      <td>0.020303</td>\n",
       "    </tr>\n",
       "    <tr>\n",
       "      <th>1</th>\n",
       "      <td>intersection_v2</td>\n",
       "      <td>0.040978</td>\n",
       "    </tr>\n",
       "    <tr>\n",
       "      <th>0</th>\n",
       "      <td>intersection</td>\n",
       "      <td>0.303819</td>\n",
       "    </tr>\n",
       "  </tbody>\n",
       "</table>\n",
       "</div>"
      ],
      "text/plain": [
       "          function  avg_time_seconds\n",
       "3  intersection_v4          0.014583\n",
       "2  intersection_v3          0.020303\n",
       "1  intersection_v2          0.040978\n",
       "0     intersection          0.303819"
      ]
     },
     "metadata": {},
     "output_type": "display_data"
    },
    {
     "data": {
      "text/plain": [
       "(<unittest.runner.TextTestResult run=5 errors=0 failures=0>,\n",
       "           function  avg_time_seconds\n",
       " 3  intersection_v4          0.014583\n",
       " 2  intersection_v3          0.020303\n",
       " 1  intersection_v2          0.040978\n",
       " 0     intersection          0.303819)"
      ]
     },
     "execution_count": 45,
     "metadata": {},
     "output_type": "execute_result"
    }
   ],
   "source": [
    "# ----- Unit tests -----\n",
    "import unittest\n",
    "\n",
    "class TestIntersections(unittest.TestCase):\n",
    "    def test_basic(self):\n",
    "        l1 = [1,2,3]\n",
    "        l2 = [2,3,4]\n",
    "        self.assertEqual(intersection(l1,l2), [2,3])\n",
    "        self.assertEqual(intersection_v2(l1,l2), [2,3])\n",
    "        self.assertEqual(intersection_v3(l1,l2), [2,3])\n",
    "        self.assertEqual(intersection_v4(l1,l2), [2,3])\n",
    "    \n",
    "    def test_duplicates_behavior(self):\n",
    "        l1 = [1,2,2,3,3]\n",
    "        l2 = [2,3,3]\n",
    "        # v1 unique, order by first appearance in l1\n",
    "        self.assertEqual(intersection(l1,l2), [2,3])\n",
    "        # v2 duplicates from l2 preserved, order of l2\n",
    "        self.assertEqual(intersection_v2(l1,l2), [2,3,3])\n",
    "        # v3/v4 duplicates from l1 preserved, order of l1\n",
    "        self.assertEqual(intersection_v3(l1,l2), [2,2,3,3])\n",
    "        self.assertEqual(intersection_v4(l1,l2), [2,2,3,3])\n",
    "    \n",
    "    def test_no_overlap(self):\n",
    "        l1 = [1,5]\n",
    "        l2 = [2,3,4]\n",
    "        self.assertIsNone(intersection(l1,l2))\n",
    "        self.assertIsNone(intersection_v2(l1,l2))\n",
    "        self.assertIsNone(intersection_v3(l1,l2))\n",
    "        self.assertIsNone(intersection_v4(l1,l2))\n",
    "    \n",
    "    def test_empty_lists(self):\n",
    "        self.assertIsNone(intersection([],[]))\n",
    "        self.assertIsNone(intersection_v2([],[]))\n",
    "        self.assertIsNone(intersection_v3([],[]))\n",
    "        self.assertIsNone(intersection_v4([],[]))\n",
    "    \n",
    "    def test_ordering(self):\n",
    "        l1 = ['a','b','c','a','b']\n",
    "        l2 = ['b','x','a','a']\n",
    "        # v1 unique, first appearance order in l1\n",
    "        self.assertEqual(intersection(l1,l2), ['a','b'])\n",
    "        # v2 preserves l2 order and duplicates\n",
    "        self.assertEqual(intersection_v2(l1,l2), ['b','a','a'])\n",
    "        # v3/v4 preserve l1 order and duplicates\n",
    "        self.assertEqual(intersection_v3(l1,l2), ['a','b','a','b'])\n",
    "        self.assertEqual(intersection_v4(l1,l2), ['a','b','a','b'])\n",
    "\n",
    "# Run the tests\n",
    "suite = unittest.TestLoader().loadTestsFromTestCase(TestIntersections)\n",
    "unittest_result = unittest.TextTestRunner(verbosity=2).run(suite)\n",
    "\n",
    "# ----- Micro-benchmarks -----\n",
    "import random, timeit\n",
    "random.seed(42)\n",
    "N = 50000\n",
    "l1 = [random.randint(0, 120000) for _ in range(N)]\n",
    "l2 = [random.randint(0, 120000) for _ in range(N)]\n",
    "\n",
    "def bench(fn, l1, l2, number=3):\n",
    "    t = timeit.timeit(lambda: fn(l1,l2), number=number)\n",
    "    return t/number\n",
    "\n",
    "timings = {\n",
    "    \"intersection\": bench(intersection, l1, l2),\n",
    "    \"intersection_v2\": bench(intersection_v2, l1, l2),\n",
    "    \"intersection_v3\": bench(intersection_v3, l1, l2),\n",
    "    \"intersection_v4\": bench(intersection_v4, l1, l2),\n",
    "}\n",
    "\n",
    "# Show results\n",
    "from pandas import DataFrame\n",
    "\n",
    "df = DataFrame([{\"function\": k, \"avg_time_seconds\": v} for k,v in timings.items()]).sort_values(\"avg_time_seconds\")\n",
    "print(\"Intersection Function Timing (avg over 3 runs, N=50k):\")\n",
    "display(df)\n",
    "\n",
    "unittest_result, df\n"
   ]
  },
  {
   "cell_type": "markdown",
   "id": "d047072f",
   "metadata": {},
   "source": [
    "### Summary of the measured averages on my run:\n",
    "Intersection_v4 is the most efficient and optimal of the four.\n",
    "\n",
    "Why:\n",
    "All four are 𝑂(∣𝑙1∣+∣𝑙2∣) a.k.a O(n+m).\n",
    "\n",
    "#### v4 has the lowest constant factors:\n",
    "\n",
    "- single, built-in set(l2) conversion (fast C-impl),\n",
    "\n",
    "- one pass through l1 with O(1) membership tests,\n",
    "\n",
    "- no unnecessary dict allocations or manual loops.\n",
    "\n",
    "#### Behavioral differences\n",
    "\n",
    "| Function        | Duplicates in output | Output order               | Notes                                                   |\n",
    "|-----------------|-----------------------|----------------------------|---------------------------------------------------------|\n",
    "| intersection    | Unique only           | By first appearance in l1  | Uses a dict; overwrites index on repeats; returns unique keys. |\n",
    "| intersection_v2 | Duplicates from l2    | l2 order (preserves dups)  | Builds dict of l1, then streams l2.                     |\n",
    "| intersection_v3 | Duplicates from l1    | l1 order (preserves dups)  | Manually builds set (slower constant factor).           |\n",
    "| intersection_v4 | Duplicates from l1    | l1 order (preserves dups)  | Same logic as v3 but optimal via set(l2).               |\n",
    "\n",
    "\n",
    "All four return None when there’s no intersection (non-idiomatic; many APIs would return []).\n",
    "\n",
    "#### Unit tests (logic)\n",
    "\n",
    "Covered: basic overlap, duplicates semantics, no-overlap, empty lists, ordering.\n",
    "\n",
    "- Result: 5/5 tests passed for all functions.\n",
    "\n",
    "Micro-benchmarks (50k elements each list, avg over 3 runs)\n",
    "\n",
    "- intersection_v4 ~ 0.014583s ← fastest\n",
    "\n",
    "- intersection_v3 ~ 0.020303s\n",
    "\n",
    "- intersection_v2 ~ 0.040978s\n",
    "\n",
    "- intersection ~ 0.303819s\n",
    "\n",
    "\n",
    "> Conclusion: Intersection_v4 is good when you want a fast, simple intersection that keeps l1’s order and duplicates."
   ]
  },
  {
   "cell_type": "code",
   "execution_count": 3,
   "id": "e486ac01",
   "metadata": {},
   "outputs": [
    {
     "name": "stdout",
     "output_type": "stream",
     "text": [
      "max of [1, 2, 3, 2, 1, 4, 5]: 5\n",
      "max of [5, 4, 3, 2, 1]: 5\n",
      "max of [1, 2, 3, 4, 5]: 5\n",
      "max of [32119, 809339, 957854, 680610, 788719, 393304, 556086, 866988, 624475, 411083]...[902290, 820880, 442817, 274188, 57485, 421882, 599385, 663919, 811581, 330161]:\n",
      " 1000000\n",
      "max of [-1, -2, -3, 56, 7, -93]: 56\n",
      "max of [-0.1, 6, 56, 9, 0.001, -56, 3.14]: 56\n",
      "Time complexity of the find_max function is O(n) where n is the number of elements in the list.\n",
      "This is because we have to loop through each element in the list once to find the maximum number.\n",
      "Space complexity of the find_max function is O(1) because we are using a constant amount of space regardless of the input size.\n"
     ]
    }
   ],
   "source": [
    "#Given a list of numbers, find the maximum number in the list\n",
    "num31,num32,num33 = [1,2,3,2,1,4,5], [5,4,3,2,1], [1,2,3,4,5]\n",
    "# num34 is very large list of random numbers\n",
    "import random\n",
    "num34 = [random.randint(1,1000000) for _ in range(1000000)]\n",
    "num35, num36 = [-1,-2,-3,56,7,-93],[-0.1,6,56,9,0.001,-56,3.14]\n",
    "def find_max(nums):\n",
    "    max_num = float('-inf') if len(nums)> 0 else None\n",
    "     #loop through each num in the list\n",
    "    for num in nums:\n",
    "        #check if the num is greater than max_num\n",
    "        if num > max_num:\n",
    "            #if it is, then set max_num to num\n",
    "            max_num=num\n",
    "    #return the maximum number found\n",
    "    return max_num\n",
    "#Test the find_max function\n",
    "print(f'max of {num31}: {find_max(num31)}')\n",
    "print(f'max of {num32}: {find_max(num32)}')\n",
    "print(f'max of {num33}: {find_max(num33)}')\n",
    "print(f'max of {num34[:10]}...{num34[-10:]}:\\n {find_max(num34)}')\n",
    "print(f'max of {num35}: {find_max(num35)}')\n",
    "print(f'max of {num36}: {find_max(num36)}')\n",
    "\n",
    "\n",
    "#Time complexity of the find_max function\n",
    "print(\"Time complexity of the find_max function is O(n) where n is the number of elements in the list.\\nThis is because we have to loop through each element in the list once to find the maximum number.\")\n",
    "#Space complexity of the find_max function\n",
    "print(\"Space complexity of the find_max function is O(1) because we are using a constant amount of space regardless of the input size.\")\n"
   ]
  },
  {
   "cell_type": "code",
   "execution_count": null,
   "id": "038e6cd6",
   "metadata": {},
   "outputs": [
    {
     "name": "stdout",
     "output_type": "stream",
     "text": [
      "max of [1, 2, 3, 2, 1, 4, 5]: 5\n",
      "max of [5, 4, 3, 2, 1]: 5\n",
      "max of [32119, 809339, 957854, 680610, 788719, 393304, 556086, 866988, 624475, 411083]...[902290, 820880, 442817, 274188, 57485, 421882, 599385, 663919, 811581, 330161]:\n",
      " 1000000\n"
     ]
    }
   ],
   "source": [
    "def find_max_shortV(nums):\n",
    "    return max(nums) if nums else None\n",
    "\n",
    "#test the find_max_shortV function\n",
    "print(f'max of {num31}: {find_max_shortV(num31)}') \n",
    "print(f'max of {num32}: {find_max_shortV(num32)}')\n",
    "#test it on the large list\n",
    "print(f'max of {num34[:10]}...{num34[-10:]}:\\n {find_max_shortV(num34)}')"
   ]
  },
  {
   "cell_type": "code",
   "execution_count": 8,
   "id": "e7650df6",
   "metadata": {},
   "outputs": [
    {
     "name": "stdout",
     "output_type": "stream",
     "text": [
      "Time taken by find_max function: 0.2337963581085205 seconds\n",
      "Time taken by find_max_shortV function: 0.06535625457763672 seconds\n",
      "The built-in max function is implemented in C and optimized for performance, making it faster than a Python loop for large lists.\n",
      "Time complexity of both find_max and find_max_shortV functions is O(n) where n is the number of elements in the list.\n",
      "This is because both functions have to look at each element in the list once to find the maximum number.\n",
      "Space complexity of both find_max and find_max_shortV functions is O(1) because both functions use a constant amount of space regardless of the input size.\n"
     ]
    }
   ],
   "source": [
    "#Compare the efficiency of the two find_max functions using time module using the large list num34\n",
    "import time\n",
    "start = time.time()\n",
    "find_max(num34)\n",
    "end = time.time()\n",
    "print(f'Time taken by find_max function: {end - start} seconds')\n",
    "start = time.time()\n",
    "find_max_shortV(num34)\n",
    "end = time.time()\n",
    "print(f'Time taken by find_max_shortV function: {end - start} seconds')\n",
    "'''Time taken by find_max function: 0.0500493049621582 seconds\n",
    "Time taken by find_max_shortV function: 0.013151884078979492 seconds'''\n",
    "#The built-in max function is implemented in C and optimized for performance, making it faster than a Python loop for large lists.\n",
    "print('The built-in max function is implemented in C and optimized for performance, making it faster than a Python loop for large lists.')\n",
    "#Time complexity of the find_max_shortV vs find_max function\n",
    "print('Time complexity of both find_max and find_max_shortV functions is O(n) where n is the number of elements in the list.\\nThis is because both functions have to look at each element in the list once to find the maximum number.')\n",
    "#Space complexity of the find_max_shortV vs find_max function\n",
    "print('Space complexity of both find_max and find_max_shortV functions is O(1) because both functions use a constant amount of space regardless of the input size.')"
   ]
  },
  {
   "cell_type": "code",
   "execution_count": 5,
   "id": "aeddf05a",
   "metadata": {},
   "outputs": [],
   "source": [
    "#Given a list of numbers, find the first non-repeating number in the list"
   ]
  },
  {
   "cell_type": "code",
   "execution_count": null,
   "id": "aa406262",
   "metadata": {},
   "outputs": [],
   "source": []
  }
 ],
 "metadata": {
  "kernelspec": {
   "display_name": "base",
   "language": "python",
   "name": "python3"
  },
  "language_info": {
   "codemirror_mode": {
    "name": "ipython",
    "version": 3
   },
   "file_extension": ".py",
   "mimetype": "text/x-python",
   "name": "python",
   "nbconvert_exporter": "python",
   "pygments_lexer": "ipython3",
   "version": "3.8.8"
  }
 },
 "nbformat": 4,
 "nbformat_minor": 5
}
