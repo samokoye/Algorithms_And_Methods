{
 "cells": [
  {
   "cell_type": "markdown",
   "id": "2ced157f",
   "metadata": {},
   "source": [
    "### Anagram Finder"
   ]
  },
  {
   "cell_type": "code",
   "execution_count": 51,
   "metadata": {},
   "outputs": [],
   "source": [
    "s1,s2 = 'cats', 'tacts'\n",
    "s3,s4 = 'cats', 'dog'\n",
    "s5,s6 = 'aabbcc', 'abcabc'\n",
    "s7,s8 = 'aabbcc', 'abccba'\n",
    "def anagram(s1,s2):\n",
    "    #print the char count of each string\n",
    "    print(f\"Char count of {s1}: {char_count(s1)}\")\n",
    "    print(f\"Char count of {s2}: {char_count(s2)}\")\n",
    "    # print whether s1 and s2 are anagrams\n",
    "    print(f'{s1} and {s2} are anagrams: ')\n",
    "    #check if s1 and s2 are anagrams\n",
    "    return char_count(s1) == char_count(s2)\n",
    "\n",
    "def char_count(s):\n",
    "    #define empty dict\n",
    "    count = {}\n",
    "    #loop through each char in the string\n",
    "    for char in s:\n",
    "        #check if the char is in the dict as a key\n",
    "        if char in count:\n",
    "            #if the char is in the count dict, then increase it by 1\n",
    "            count[char] +=1\n",
    "        else:\n",
    "            #if not in the dict, add it as a key and set its value to 1\n",
    "            count[char] = 1\n",
    "    #return the count dict\n",
    "    return count"
   ]
  },
  {
   "cell_type": "code",
   "execution_count": 52,
   "id": "99ee7352",
   "metadata": {},
   "outputs": [
    {
     "name": "stdout",
     "output_type": "stream",
     "text": [
      "Char count of cats: {'c': 1, 'a': 1, 't': 1, 's': 1}\n",
      "Char count of tacts: {'t': 2, 'a': 1, 'c': 1, 's': 1}\n",
      "cats and tacts are anagrams: \n",
      "False\n",
      "Char count of cats: {'c': 1, 'a': 1, 't': 1, 's': 1}\n",
      "Char count of dog: {'d': 1, 'o': 1, 'g': 1}\n",
      "cats and dog are anagrams: \n",
      "False\n",
      "Char count of aabbcc: {'a': 2, 'b': 2, 'c': 2}\n",
      "Char count of abcabc: {'a': 2, 'b': 2, 'c': 2}\n",
      "aabbcc and abcabc are anagrams: \n",
      "True\n",
      "Char count of aabbcc: {'a': 2, 'b': 2, 'c': 2}\n",
      "Char count of abccba: {'a': 2, 'b': 2, 'c': 2}\n",
      "aabbcc and abccba are anagrams: \n",
      "True\n"
     ]
    }
   ],
   "source": [
    "#Test the anagram function\n",
    "print(anagram(s1,s2)) #True\n",
    "print(anagram(s3,s4)) #False\n",
    "print(anagram(s5,s6)) #True\n",
    "print(anagram(s7,s8)) #True"
   ]
  },
  {
   "cell_type": "code",
   "execution_count": 53,
   "id": "1ebc8272",
   "metadata": {},
   "outputs": [
    {
     "name": "stdout",
     "output_type": "stream",
     "text": [
      "Given strings: cats, tacts\n",
      "False\n",
      "Given strings: cats, dog\n",
      "False\n",
      "Given strings: aabbcc, abcabc\n",
      "True\n",
      "Given strings: aabbcc, abccba\n",
      "True\n"
     ]
    }
   ],
   "source": [
    "#Compact version with char_count inside anagram function\n",
    "def test_anagram(s1,s2):\n",
    "    #print the given strings\n",
    "    print(f'Given strings: {s1}, {s2}')\n",
    "    def char_count(s):\n",
    "        #define empty dict to hold char counts\n",
    "        count = {}\n",
    "        for char in s:\n",
    "            #if char not in count dict, add it with value 0\n",
    "            if char not in count:\n",
    "                count[char] = 0\n",
    "            #exit the if block and increment the count\n",
    "            count[char] += 1\n",
    "        #return the count dict\n",
    "        return count\n",
    "    #return whether the char counts of both strings are equal\n",
    "    return char_count(s1) == char_count(s2)\n",
    "\n",
    "#Test the compact anagram function\n",
    "print(test_anagram(s1,s2)) #True\n",
    "print(test_anagram(s3,s4)) #False\n",
    "print(test_anagram(s5,s6)) #True\n",
    "print(test_anagram(s7,s8)) #True"
   ]
  },
  {
   "cell_type": "markdown",
   "id": "d4e0c0d1",
   "metadata": {},
   "source": [
    "### Most frequent char(First) in a string finder\n",
    "\n",
    "-- The following approach is for if you are required to return the first max occurring character"
   ]
  },
  {
   "cell_type": "code",
   "execution_count": 54,
   "id": "3681401e",
   "metadata": {},
   "outputs": [
    {
     "name": "stdout",
     "output_type": "stream",
     "text": [
      "Most frequent char in apple: p\n",
      "Most frequent char in banana: a\n",
      "Most frequent char in cherry: r\n",
      "Most frequent char in date: d\n",
      "Most frequent char in potato: o\n"
     ]
    }
   ],
   "source": [
    "#Given a string, need to find the most frequent character in that string\n",
    "s9,s10,s11,s12,s13 = 'apple', 'banana', 'cherry', 'date','potato'\n",
    "def most_frequent_char(s):\n",
    "    #initialize empty dict to hold the char in the string\n",
    "    count= {}\n",
    "    #loop through each char in the string\n",
    "    for char in s:\n",
    "        #check if char is not in count dict\n",
    "        if char not in count:\n",
    "            #set the value of the first occurrence of the char to 0\n",
    "            count[char] = 0\n",
    "        #increment the count of the char by 1\n",
    "        count[char] += 1\n",
    "    # return the char with the max count. if there is a tie, return the first char with the max count\n",
    "    return max(count, key=count.get)\n",
    "\n",
    "#test the most_frequent_char function\n",
    "print(f'Most frequent char in {s9}: {most_frequent_char(s9)}')\n",
    "print(f'Most frequent char in {s10}: {most_frequent_char(s10)}')\n",
    "print(f'Most frequent char in {s11}: {most_frequent_char(s11)}')\n",
    "print(f'Most frequent char in {s12}: {most_frequent_char(s12)}')\n",
    "print(f'Most frequent char in {s13}: {most_frequent_char(s13)}')\n",
    "            "
   ]
  },
  {
   "cell_type": "code",
   "execution_count": 55,
   "id": "7456d3e3",
   "metadata": {},
   "outputs": [
    {
     "name": "stdout",
     "output_type": "stream",
     "text": [
      "Most frequent char in apple: p\n",
      "Most frequent char in banana: a\n",
      "Most frequent char in cherry: r\n",
      "Most frequent char in date: d\n",
      "Most frequent char in potato: o\n",
      "Time complexity: O(n)\n",
      "Because we loop through the string twice, but each loop is O(n), so overall it is O(n).\n"
     ]
    }
   ],
   "source": [
    "\n",
    "#Another way to find the most frequent char without using max function\n",
    "def most_frequent_char_v2(s):\n",
    "    #initialize empty dict to hold the char in the string\n",
    "    count= {}\n",
    "    max_char = None\n",
    "    #loop through each char in the string\n",
    "    for char in s:\n",
    "        #check if char is not in count dict\n",
    "        if char not in count:\n",
    "            #if not in count dict, set its value to 0\n",
    "            count[char] = 0\n",
    "        #increase the count of the char by 1\n",
    "        count[char] += 1\n",
    "    #check if max_char is None or the count of the current char is greater than the count of max_char\n",
    "    for char in s:\n",
    "        if max_char is None or count[char] > count[max_char]:\n",
    "            #set max_char to the current char\n",
    "            max_char = char\n",
    "    #return the max_char\n",
    "    return max_char\n",
    "\n",
    "#test the most_frequent_char_v2 function\n",
    "print(f'Most frequent char in {s9}: {most_frequent_char_v2(s9)}')\n",
    "print(f'Most frequent char in {s10}: {most_frequent_char_v2(s10)}')\n",
    "print(f'Most frequent char in {s11}: {most_frequent_char_v2(s11)}')\n",
    "print(f'Most frequent char in {s12}: {most_frequent_char_v2(s12)}')\n",
    "print(f'Most frequent char in {s13}: {most_frequent_char_v2(s13)}')\n",
    "#print the time complexity of the function\n",
    "print('Time complexity: O(n)')\n",
    "#why the time complexity is O(n)\n",
    "print('Because we loop through the string twice, but each loop is O(n), so overall it is O(n).')"
   ]
  },
  {
   "cell_type": "markdown",
   "id": "12f492ce",
   "metadata": {},
   "source": [
    "### Most frequent char(Any) in a string finder\n",
    "\n",
    "-- The following approach is for if you are NOT required to return the first max occurring character"
   ]
  },
  {
   "cell_type": "code",
   "execution_count": 56,
   "id": "774f245d",
   "metadata": {},
   "outputs": [
    {
     "name": "stdout",
     "output_type": "stream",
     "text": [
      "Count dict: {'a': 1, 'p': 2, 'l': 1, 'e': 1}\n",
      "Most frequent char in apple: p\n",
      "Count dict: {'b': 1, 'a': 3, 'n': 2}\n",
      "Most frequent char in banana: a\n",
      "Count dict: {'c': 1, 'h': 1, 'e': 1, 'r': 2, 'y': 1}\n",
      "Most frequent char in cherry: r\n",
      "Count dict: {'d': 1, 'a': 1, 't': 1, 'e': 1}\n",
      "Most frequent char in date: d\n",
      "Count dict: {'p': 1, 'o': 2, 't': 2, 'a': 1}\n",
      "Most frequent char in potato: t\n",
      "Time complexity: O(n)\n",
      "Because we loop through the string only once, so overall it is O(n).\n"
     ]
    }
   ],
   "source": [
    "def most_frequent_char_v3(s):\n",
    "    #initialize empty dict to hold the char in the string\n",
    "    count ={}\n",
    "    max_char = None\n",
    "    #loop through each char in the string\n",
    "    for char in s:\n",
    "        #check if char is not in the count dict\n",
    "        if char not in count:\n",
    "            count[char] = 0\n",
    "        #increment the count of the char by 1\n",
    "        count[char] +=1\n",
    "        \n",
    "        #Check for any max occurance char in the count dict and update max_char to it\n",
    "        if max_char is None or count[char] > count[max_char]:\n",
    "            #update the max_char to the current char\n",
    "            max_char = char\n",
    "    #print the count dict\n",
    "    print(f'Count dict: {count}')\n",
    "    #return the max_char\n",
    "    return max_char\n",
    "    \n",
    "    #test the most_frequent_char_v3 function\n",
    "print(f'Most frequent char in {s9}: {most_frequent_char_v3(s9)}')\n",
    "print(f'Most frequent char in {s10}: {most_frequent_char_v3(s10)}')\n",
    "print(f'Most frequent char in {s11}: {most_frequent_char_v3(s11)}')\n",
    "print(f'Most frequent char in {s12}: {most_frequent_char_v3(s12)}')\n",
    "print(f'Most frequent char in {s13}: {most_frequent_char_v3(s13)}')\n",
    "    \n",
    "#print the time complexity of the function\n",
    "print('Time complexity: O(n)')\n",
    "#print why the time complexity is O(n)\n",
    "print('Because we loop through the string only once, so overall it is O(n).')"
   ]
  },
  {
   "cell_type": "code",
   "execution_count": 57,
   "id": "1e5dc881",
   "metadata": {},
   "outputs": [
    {
     "name": "stdout",
     "output_type": "stream",
     "text": [
      "Time taken by most_frequent_char: 0.0 seconds\n",
      "Time taken by most_frequent_char_v2: 0.0 seconds\n",
      "Count dict: {'a': 1, 'p': 2, 'l': 1, 'e': 1}\n",
      "Time taken by most_frequent_char_v3: 0.0 seconds\n",
      "Accuracy of the three most frequent char functions:\n",
      "Count dict: {'a': 1, 'p': 2, 'l': 1, 'e': 1}\n",
      "Accuracy of most_frequent_char functions using s9: True\n",
      "Count dict: {'b': 1, 'a': 3, 'n': 2}\n",
      "Accuracy of most_frequent_char functions using s10: True\n",
      "Count dict: {'c': 1, 'h': 1, 'e': 1, 'r': 2, 'y': 1}\n",
      "Accuracy of most_frequent_char functions using s11: True\n",
      "Count dict: {'d': 1, 'a': 1, 't': 1, 'e': 1}\n",
      "Accuracy of most_frequent_char functions using s12: True\n",
      "Count dict: {'p': 1, 'o': 2, 't': 2, 'a': 1}\n",
      "Accuracy of most_frequent_char functions using s13: False\n"
     ]
    }
   ],
   "source": [
    "#test the time complexity of the functions using time module\n",
    "import time\n",
    "start = time.time()\n",
    "most_frequent_char(s9)\n",
    "end = time.time()\n",
    "print(f'Time taken by most_frequent_char: {end - start} seconds')\n",
    "#test the time complexity of the second function\n",
    "start = time.time()\n",
    "most_frequent_char_v2(s9)\n",
    "end = time.time()\n",
    "print(f'Time taken by most_frequent_char_v2: {end - start} seconds')\n",
    "#test the time complexity of the third function\n",
    "start = time.time()\n",
    "most_frequent_char_v3(s9)\n",
    "end = time.time()\n",
    "print(f'Time taken by most_frequent_char_v3: {end - start} seconds')\n",
    "\n",
    "#The accuracy of each function by comparing their outputs\n",
    "print('Accuracy of the three most frequent char functions:')\n",
    "print(f'Accuracy of most_frequent_char functions using s9: {most_frequent_char(s9) == most_frequent_char_v2(s9) == most_frequent_char_v3(s9)}')\n",
    "print(f'Accuracy of most_frequent_char functions using s10: {most_frequent_char(s10) == most_frequent_char_v2(s10) == most_frequent_char_v3(s10)}')\n",
    "print(f'Accuracy of most_frequent_char functions using s11: {most_frequent_char(s11) == most_frequent_char_v2(s11) == most_frequent_char_v3(s11)}')\n",
    "print(f'Accuracy of most_frequent_char functions using s12: {most_frequent_char(s12) == most_frequent_char_v2(s12) == most_frequent_char_v3(s12)}')\n",
    "print(f'Accuracy of most_frequent_char functions using s13: {most_frequent_char(s13) == most_frequent_char_v2(s13) == most_frequent_char_v3(s13)}')\n"
   ]
  },
  {
   "cell_type": "markdown",
   "id": "b6a6e89f",
   "metadata": {},
   "source": [
    "### Summary Analysis of the three most frequent char functions:\n",
    "- All three functions have a time complexity of O(n),\n",
    " but the third function is more efficient because it only loops through the string once,\n",
    " while the first two functions loop through the string twice.\n",
    " \n",
    "### Discrepancy in accuracy of the functions based on test cases s9 to s13:\n",
    "\n",
    "- The third most frequent char (v3) function returned the last max occurring char\n",
    " instead of the first max occurring char.\n",
    " Unlike the first two functions, it does not loop through the string twice\n",
    " to check for any other char with the same max occurance count.\n",
    " Hence it overwrites the max_char variable whenever\n",
    " it finds a char with the same max occurrance count later in the string.\n",
    "\n",
    "- In case of a tie and if returning any of the max char is allowed.\n",
    " Then all three functions will be okay to use,\n",
    " but the third function is the most efficient.\n",
    " Hence, use any of the functions if order of the max char does not matter.\n",
    "\n",
    "### Approach to solving problems implemented for each of the three functions:\n",
    "**1. most_frequent_char:** This function uses a dictionary\n",
    " to count the occurrences of each character in the string.\n",
    " It then uses the max function to find the character with the highest count.\n",
    " If there is a tie, it returns the first character with\n",
    " the highest count because the max function returns the first occurrence in case of a tie.\n",
    "\n",
    "**2. most_frequent_char_v2:** This function also uses a dictionary\n",
    " to count the occurrences of each character in the string.\n",
    " However, instead of using the max function, it loops through the string again\n",
    " to find the character with the highest count. If there is a tie, it returns the first character with the highest count\n",
    " because it checks for max_char in the order of characters in the string.\n",
    "\n",
    "**3. most_frequent_char_v3:** This function combines counting and\n",
    " finding the max character in a single loop through the string.\n",
    " It updates the max_char variable whenever it finds a character with a higher count.\n",
    " However, if there is a tie, it returns the last character with the highest count because it overwrites max_char\n",
    " whenever it finds a character with the same max count later in the string.\n",
    "\n"
   ]
  },
  {
   "cell_type": "markdown",
   "id": "3ac08069",
   "metadata": {},
   "source": []
  }
 ],
 "metadata": {
  "kernelspec": {
   "display_name": "base",
   "language": "python",
   "name": "python3"
  },
  "language_info": {
   "codemirror_mode": {
    "name": "ipython",
    "version": 3
   },
   "file_extension": ".py",
   "mimetype": "text/x-python",
   "name": "python",
   "nbconvert_exporter": "python",
   "pygments_lexer": "ipython3",
   "version": "3.8.8"
  }
 },
 "nbformat": 4,
 "nbformat_minor": 5
}
